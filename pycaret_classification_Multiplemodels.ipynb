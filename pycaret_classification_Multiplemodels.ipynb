{
  "cells": [
    {
      "cell_type": "markdown",
      "metadata": {
        "id": "view-in-github",
        "colab_type": "text"
      },
      "source": [
        "<a href=\"https://colab.research.google.com/github/masayasato0407/pycaret_classification/blob/main/pycaret_classification_Multiplemodels.ipynb\" target=\"_parent\"><img src=\"https://colab.research.google.com/assets/colab-badge.svg\" alt=\"Open In Colab\"/></a>"
      ]
    },
    {
      "cell_type": "markdown",
      "metadata": {
        "id": "sR79vo4Z5Sqt"
      },
      "source": [
        "#pycaretはtrain sampleとtest sampleを予め分けて準備し、4つのステップでtest sampleでの精度を解析する\n",
        "\n",
        "①training dataとtest dataを読み込む\n",
        "\n",
        "②狭義のtraining set (training sample全体の7割)を10分割交差検証で比較しハイパーパラメーターのチューニングする\n",
        "\n",
        "③validation set (training sample全体の3割)も使用して、training sample全体でのモデルを作成する\n",
        "\n",
        "④training set全体での精度の検証 (internal validation\n",
        "\n",
        "⑤予め別に自身で準備したtest sampleで精度を検証する (external validation)\n",
        "→この精度を上げるのが目的\n"
      ],
      "id": "sR79vo4Z5Sqt"
    },
    {
      "cell_type": "code",
      "execution_count": null,
      "metadata": {
        "id": "KLTbK_nFrBPh"
      },
      "outputs": [],
      "source": [
        "!pip install pycaret[full]"
      ],
      "id": "KLTbK_nFrBPh"
    },
    {
      "cell_type": "code",
      "execution_count": null,
      "metadata": {
        "id": "f06df51c"
      },
      "outputs": [],
      "source": [
        "#ライブラリのインポート\n",
        "import numpy as np\n",
        "import pandas as pd"
      ],
      "id": "f06df51c"
    },
    {
      "cell_type": "code",
      "execution_count": null,
      "metadata": {
        "id": "3c2c1669"
      },
      "outputs": [],
      "source": [
        "from pycaret.classification import *"
      ],
      "id": "3c2c1669"
    },
    {
      "cell_type": "markdown",
      "metadata": {
        "id": "7iO4iFd-6EDL"
      },
      "source": [
        "#ここからは実際のデータの読み込み"
      ],
      "id": "7iO4iFd-6EDL"
    },
    {
      "cell_type": "code",
      "execution_count": null,
      "metadata": {
        "id": "056bb4df"
      },
      "outputs": [],
      "source": [
        "# ローカルファイルを直接アップロードする (train data)\n",
        "from google.colab import files\n",
        "uploaded = files.upload()\n"
      ],
      "id": "056bb4df"
    },
    {
      "cell_type": "code",
      "execution_count": null,
      "metadata": {
        "id": "a5a0e641"
      },
      "outputs": [],
      "source": [
        "#train dataの読み込み\n",
        "train_data = pd.read_csv('train.csv')\n",
        "train_data.head()"
      ],
      "id": "a5a0e641"
    },
    {
      "cell_type": "code",
      "execution_count": null,
      "metadata": {
        "id": "4vcKjPNQxuBq"
      },
      "outputs": [],
      "source": [
        "# ローカルファイルを直接アップロードする (test data)\n",
        "from google.colab import files\n",
        "uploaded = files.upload()"
      ],
      "id": "4vcKjPNQxuBq"
    },
    {
      "cell_type": "code",
      "execution_count": null,
      "metadata": {
        "id": "w_RVw-42xuEw"
      },
      "outputs": [],
      "source": [
        "#test dataの読み込み\n",
        "test_data = pd.read_csv('test.csv')\n",
        "test_data.head()"
      ],
      "id": "w_RVw-42xuEw"
    },
    {
      "cell_type": "markdown",
      "metadata": {
        "id": "Y5prxd6b5fhq"
      },
      "source": [
        "#ここからステップ①、pycaretにデータの型を判別させ、training data全体ををtrainingのための狭義のtraining sampleとパラメーターを決めるためのvalidation sampleに分割する。\n"
      ],
      "id": "Y5prxd6b5fhq"
    },
    {
      "cell_type": "code",
      "execution_count": null,
      "metadata": {
        "id": "d51ea396"
      },
      "outputs": [],
      "source": [
        "#train_sizeを指定しない場合は7:3に分割される\n",
        "#pycaretにデータの型を判別させる (sampleIDは無視する→ignore)\n",
        "exp1 = setup(train_data, target = 'event', train_size = 0.8,ignore_features = ['sampleID'])"
      ],
      "id": "d51ea396"
    },
    {
      "cell_type": "markdown",
      "metadata": {
        "id": "P83u16Xw6Lyq"
      },
      "source": [
        "#ここからステップ② 狭義のtraining set (上でtraining sample全体の8割に指定)を10分割交差検証で比較しハイパーパラメーターのチューニングする"
      ],
      "id": "P83u16Xw6Lyq"
    },
    {
      "cell_type": "code",
      "execution_count": null,
      "metadata": {
        "id": "a907c095"
      },
      "outputs": [],
      "source": [
        "#transformed train sampleでのmodelの比較 (デフォルトは10分割交差検証)\n",
        "compare_models()"
      ],
      "id": "a907c095"
    },
    {
      "cell_type": "code",
      "execution_count": null,
      "metadata": {
        "id": "253db3a0"
      },
      "outputs": [],
      "source": [
        "#Logistic regressionモデルを作成\n",
        "lr = create_model('lr')"
      ],
      "id": "253db3a0"
    },
    {
      "cell_type": "code",
      "execution_count": null,
      "metadata": {
        "id": "71890eef"
      },
      "outputs": [],
      "source": [
        "#勾配ブースティング決定木 (ブースティング)モデルを作成\n",
        "xgboost = create_model('gbc')"
      ],
      "id": "71890eef"
    },
    {
      "cell_type": "code",
      "execution_count": null,
      "metadata": {
        "id": "26c991c9"
      },
      "outputs": [],
      "source": [
        "#ランダムフォレストモデルを作成\n",
        "rf = create_model('rf')"
      ],
      "id": "26c991c9"
    },
    {
      "cell_type": "code",
      "execution_count": null,
      "metadata": {
        "id": "9c8212bd"
      },
      "outputs": [],
      "source": [
        "#サポートベクターマシン (SVM)を作成\n",
        "rbfsvm = create_model('rbfsvm')"
      ],
      "id": "9c8212bd"
    },
    {
      "cell_type": "code",
      "execution_count": null,
      "metadata": {
        "id": "1437f7b4"
      },
      "outputs": [],
      "source": [
        "#k近傍法 (knn)を作成\n",
        "knn = create_model('knn')"
      ],
      "id": "1437f7b4"
    },
    {
      "cell_type": "code",
      "execution_count": null,
      "metadata": {
        "id": "d1c10b2a"
      },
      "outputs": [],
      "source": [
        "#Naive Bayesモデルを作成\n",
        "nb = create_model('nb')"
      ],
      "id": "d1c10b2a"
    },
    {
      "cell_type": "code",
      "execution_count": null,
      "metadata": {
        "id": "3a36b671"
      },
      "outputs": [],
      "source": [
        "#多層パーセプトロン (ニューラルネット)モデルを作成\n",
        "mlp = create_model('mlp')"
      ],
      "id": "3a36b671"
    },
    {
      "cell_type": "markdown",
      "metadata": {
        "id": "n5KeRBLH6xIa"
      },
      "source": [
        "ここからハイパーパラメーターをチューニング、pycaretはランダムサーチで最適パラメーターを探索"
      ],
      "id": "n5KeRBLH6xIa"
    },
    {
      "cell_type": "code",
      "execution_count": null,
      "metadata": {
        "id": "ba587cd9"
      },
      "outputs": [],
      "source": [
        "#試行回数の指定 n_iter = 10 (時間がかかるので10にしています、50や100に設定してください)\n",
        "#AUCがいいものを選ぶ場合はoptimizeを'AUC'で指定、正答率なら'Accuracy'\n",
        "\n",
        "#Logistic regression\n",
        "tuned_lr = tune_model(lr,  n_iter = 10, fold=10,optimize = 'AUC')"
      ],
      "id": "ba587cd9"
    },
    {
      "cell_type": "code",
      "execution_count": null,
      "metadata": {
        "id": "bf52147d"
      },
      "outputs": [],
      "source": [
        "#ブースティング\n",
        "tuned_xgboost = tune_model(xgboost,  n_iter = 10, fold=10,optimize = 'AUC')"
      ],
      "id": "bf52147d"
    },
    {
      "cell_type": "code",
      "execution_count": null,
      "metadata": {
        "id": "b3879560"
      },
      "outputs": [],
      "source": [
        "#ランダムフォレスト\n",
        "tuned_rf = tune_model(rf,  n_iter = 10, fold=10,optimize = 'AUC')"
      ],
      "id": "b3879560"
    },
    {
      "cell_type": "code",
      "execution_count": null,
      "metadata": {
        "id": "d2b2f337"
      },
      "outputs": [],
      "source": [
        "#サポートベクターマシン\n",
        "tuned_rbfsvm = tune_model(rbfsvm,  n_iter = 10, fold=10,optimize = 'AUC')"
      ],
      "id": "d2b2f337"
    },
    {
      "cell_type": "code",
      "execution_count": null,
      "metadata": {
        "id": "ddd0cff9"
      },
      "outputs": [],
      "source": [
        "#k近傍法 (knn)\n",
        "tuned_knn = tune_model(knn,  n_iter = 10, fold=10,optimize = 'AUC')"
      ],
      "id": "ddd0cff9"
    },
    {
      "cell_type": "code",
      "execution_count": null,
      "metadata": {
        "id": "dc8b1def"
      },
      "outputs": [],
      "source": [
        "#Naive beyesモデル\n",
        "tuned_nb = tune_model(nb,  n_iter = 10, fold=10,optimize = 'AUC')"
      ],
      "id": "dc8b1def"
    },
    {
      "cell_type": "code",
      "execution_count": null,
      "metadata": {
        "id": "f475d456"
      },
      "outputs": [],
      "source": [
        "#多層パーセプトロン (ニューラルネット)モデル\n",
        "#mlpのチューニングは時々エラーになる (n_iterを減らすなどで対応)\n",
        "tuned_mlp = tune_model(mlp,  n_iter = 10, fold=10,optimize = 'AUC')"
      ],
      "id": "f475d456"
    },
    {
      "cell_type": "markdown",
      "metadata": {
        "id": "fMDhDy6O63p6"
      },
      "source": [
        "#ここからステップ③ validation sampleも含めたtraining sample2100例全体でのモデル (final model)を固定する"
      ],
      "id": "fMDhDy6O63p6"
    },
    {
      "cell_type": "code",
      "execution_count": null,
      "metadata": {
        "id": "8860e492"
      },
      "outputs": [],
      "source": [
        "#ロジスティックモデルの固定\n",
        "final_lr = finalize_model(tuned_lr)"
      ],
      "id": "8860e492"
    },
    {
      "cell_type": "code",
      "execution_count": null,
      "metadata": {
        "id": "7c8f4554"
      },
      "outputs": [],
      "source": [
        "#ブースティングモデルの固定\n",
        "final_xgboost = finalize_model(tuned_xgboost)"
      ],
      "id": "7c8f4554"
    },
    {
      "cell_type": "code",
      "execution_count": null,
      "metadata": {
        "id": "6a241e8d"
      },
      "outputs": [],
      "source": [
        "#ランダムフォレストモデルの固定\n",
        "final_rf = finalize_model(tuned_rf)"
      ],
      "id": "6a241e8d"
    },
    {
      "cell_type": "code",
      "execution_count": null,
      "metadata": {
        "id": "44b305cd"
      },
      "outputs": [],
      "source": [
        "#SVMモデルの固定\n",
        "final_rbfsvm  = finalize_model(tuned_rbfsvm )"
      ],
      "id": "44b305cd"
    },
    {
      "cell_type": "code",
      "execution_count": null,
      "metadata": {
        "id": "00ef2bea"
      },
      "outputs": [],
      "source": [
        "#KNNモデルの固定\n",
        "final_knn = finalize_model(tuned_knn)"
      ],
      "id": "00ef2bea"
    },
    {
      "cell_type": "code",
      "execution_count": null,
      "metadata": {
        "id": "a53ddbe4"
      },
      "outputs": [],
      "source": [
        "#Naive bayesモデルの固定\n",
        "final_nb = finalize_model(tuned_nb)"
      ],
      "id": "a53ddbe4"
    },
    {
      "cell_type": "code",
      "execution_count": null,
      "metadata": {
        "id": "8110b17a"
      },
      "outputs": [],
      "source": [
        "#mlp (ニューラルネットワーク)モデルの固定\n",
        "final_mlp = finalize_model(tuned_mlp)"
      ],
      "id": "8110b17a"
    },
    {
      "cell_type": "markdown",
      "metadata": {
        "id": "Iy3BF0sL7svi"
      },
      "source": [
        "#ここからステップ④　training set全体での精度検証 (internal validation)\n",
        "\n",
        "このコードは厳密にはtraining sample全体で評価を行っているのではなく、training sampleの一部である (今回ならtraining sampleの2割)　validation sampleのみでの評価を行っている\n",
        "\n",
        "→training sample全体で行うためには、本プロセスの最後で行っているtest dataでの評価の際に用いるtest dataをtraining dataに置き換えて、test dataに行うのと同様にScoreのCSVファイルを出力する"
      ],
      "id": "Iy3BF0sL7svi"
    },
    {
      "cell_type": "code",
      "execution_count": null,
      "metadata": {
        "id": "583a50f0"
      },
      "outputs": [],
      "source": [
        "#ロジスティックモデルのinternal validation\n",
        "predict_model(final_lr);"
      ],
      "id": "583a50f0"
    },
    {
      "cell_type": "code",
      "execution_count": null,
      "metadata": {
        "id": "33e3689a"
      },
      "outputs": [],
      "source": [
        "#ブースティングモデルのinternal validation\n",
        "predict_model(final_xgboost);"
      ],
      "id": "33e3689a"
    },
    {
      "cell_type": "code",
      "execution_count": null,
      "metadata": {
        "id": "e0a6bbd5"
      },
      "outputs": [],
      "source": [
        "#ランダムフォレストモデルのinternal validation\n",
        "predict_model(final_rf);"
      ],
      "id": "e0a6bbd5"
    },
    {
      "cell_type": "code",
      "execution_count": null,
      "metadata": {
        "id": "b41c45d8"
      },
      "outputs": [],
      "source": [
        "#SVMモデルのinternal validation\n",
        "predict_model(final_rbfsvm);"
      ],
      "id": "b41c45d8"
    },
    {
      "cell_type": "code",
      "execution_count": null,
      "metadata": {
        "id": "998d2282"
      },
      "outputs": [],
      "source": [
        "#knnモデルのinternal validation\n",
        "predict_model(final_knn);"
      ],
      "id": "998d2282"
    },
    {
      "cell_type": "code",
      "execution_count": null,
      "metadata": {
        "id": "cff88cac"
      },
      "outputs": [],
      "source": [
        "#Naive bayesモデルのinternal validation\n",
        "predict_model(final_nb);"
      ],
      "id": "cff88cac"
    },
    {
      "cell_type": "code",
      "execution_count": null,
      "metadata": {
        "id": "1e67ed23"
      },
      "outputs": [],
      "source": [
        "#MLP (ニューラルネットワーク)モデルのinternal validation\n",
        "predict_model(final_mlp);"
      ],
      "id": "1e67ed23"
    },
    {
      "cell_type": "markdown",
      "metadata": {
        "id": "F9L0Ck__8Eux"
      },
      "source": [
        "#ここからステップ⑤　予め別に自身で準備したtest sampleで精度を検証する (external validation)→この精度を上げるのが目的"
      ],
      "id": "F9L0Ck__8Eux"
    },
    {
      "cell_type": "code",
      "execution_count": null,
      "metadata": {
        "id": "7fe1ad4c"
      },
      "outputs": [],
      "source": [
        "#ロジスティックモデルの評価\n",
        "prediction_lr = predict_model(final_lr, data = test_data)\n",
        "prediction_lr"
      ],
      "id": "7fe1ad4c"
    },
    {
      "cell_type": "code",
      "execution_count": null,
      "metadata": {
        "id": "ecf9fa59"
      },
      "outputs": [],
      "source": [
        "#ブースティングモデルの評価\n",
        "prediction_xg = predict_model(final_xgboost, data = test_data)\n",
        "prediction_xg"
      ],
      "id": "ecf9fa59"
    },
    {
      "cell_type": "code",
      "execution_count": null,
      "metadata": {
        "id": "3c81b74f"
      },
      "outputs": [],
      "source": [
        "#ランダムフォレストモデルの評価\n",
        "prediction_rf = predict_model(final_rf, data = test_data)\n",
        "prediction_rf"
      ],
      "id": "3c81b74f"
    },
    {
      "cell_type": "code",
      "execution_count": null,
      "metadata": {
        "id": "22a9638a"
      },
      "outputs": [],
      "source": [
        "#SVMモデルの評価\n",
        "prediction_svm = predict_model(final_rbfsvm, data = test_data)\n",
        "prediction_svm"
      ],
      "id": "22a9638a"
    },
    {
      "cell_type": "code",
      "execution_count": null,
      "metadata": {
        "id": "5a449837"
      },
      "outputs": [],
      "source": [
        "#knnモデルの評価\n",
        "prediction_knn = predict_model(final_knn, data = test_data)\n",
        "prediction_knn"
      ],
      "id": "5a449837"
    },
    {
      "cell_type": "code",
      "execution_count": null,
      "metadata": {
        "id": "59b8f1d8"
      },
      "outputs": [],
      "source": [
        "#Naive bayesモデルの評価\n",
        "prediction_nb = predict_model(final_nb, data = test_data)\n",
        "prediction_nb"
      ],
      "id": "59b8f1d8"
    },
    {
      "cell_type": "code",
      "execution_count": null,
      "metadata": {
        "id": "3e936f65"
      },
      "outputs": [],
      "source": [
        "#MLPモデルの評価\n",
        "prediction_mlp = predict_model(mlp, data = test_data)\n",
        "prediction_mlp"
      ],
      "id": "3e936f65"
    },
    {
      "cell_type": "markdown",
      "metadata": {
        "id": "V4rLp9jKBX7v"
      },
      "source": [
        "#既存のスコアリングシステムなどとの比較をしやすくするため、統計ソフトでの解析用に機械学習が出したスコアと正解ラベルをcsvファイルで出力する。\n",
        "\n",
        "注意点: AUCを出すためにはprediction_label=0のものは、prediction=1の確率に変換をする"
      ],
      "id": "V4rLp9jKBX7v"
    },
    {
      "cell_type": "code",
      "execution_count": null,
      "metadata": {
        "id": "f6cc3670"
      },
      "outputs": [],
      "source": [
        "#ロジスティックモデルの予測出力 (左のフォルダにcsvが出ているので、ファイル右の点3つからダウンロード)\n",
        "prediction_lr.to_csv('prediction_lr.csv', columns=['event','prediction_label','prediction_score'])"
      ],
      "id": "f6cc3670"
    },
    {
      "cell_type": "code",
      "execution_count": null,
      "metadata": {
        "id": "f99a1126"
      },
      "outputs": [],
      "source": [
        "#ブースティングの予測出力\n",
        "prediction_xg.to_csv('prediction_xg.csv', columns=['event','prediction_label','prediction_score'])"
      ],
      "id": "f99a1126"
    },
    {
      "cell_type": "code",
      "execution_count": null,
      "metadata": {
        "id": "a52c71d2"
      },
      "outputs": [],
      "source": [
        "#ランダムフォレストの予測出力\n",
        "prediction_rf.to_csv('prediction_rf.csv', columns=['event','prediction_label','prediction_score'])"
      ],
      "id": "a52c71d2"
    },
    {
      "cell_type": "code",
      "execution_count": null,
      "metadata": {
        "id": "f2620ded"
      },
      "outputs": [],
      "source": [
        "#SVMの予測出力\n",
        "prediction_svm.to_csv('prediction_svm.csv', columns=['event','prediction_label','prediction_score'])"
      ],
      "id": "f2620ded"
    },
    {
      "cell_type": "code",
      "execution_count": null,
      "metadata": {
        "id": "fb24707d"
      },
      "outputs": [],
      "source": [
        "#knnの予測出力\n",
        "prediction_knn.to_csv('prediction_knn.csv', columns=['event','prediction_label','prediction_score'])"
      ],
      "id": "fb24707d"
    },
    {
      "cell_type": "code",
      "execution_count": null,
      "metadata": {
        "id": "c9e01e6b"
      },
      "outputs": [],
      "source": [
        "#Naive bayesの予測出力\n",
        "prediction_nb.to_csv('prediction_nb.csv', columns=['event','prediction_label','prediction_score'])"
      ],
      "id": "c9e01e6b"
    },
    {
      "cell_type": "code",
      "execution_count": null,
      "metadata": {
        "id": "9c1bafe1"
      },
      "outputs": [],
      "source": [
        "#MLP (ニューラルネットワーク)の予測出力\n",
        "prediction_mlp.to_csv('prediction_mlp.csv', columns=['event','prediction_label','prediction_score'])"
      ],
      "id": "9c1bafe1"
    },
    {
      "cell_type": "markdown",
      "metadata": {
        "id": "4PM_WuaeCH62"
      },
      "source": [
        "#ハイパーパラメーターや変数の重要度等を一斉に出力する(catboostなどでは出力されない)"
      ],
      "id": "4PM_WuaeCH62"
    },
    {
      "cell_type": "code",
      "execution_count": null,
      "metadata": {
        "id": "1e58481c"
      },
      "outputs": [],
      "source": [
        "evaluate_model(final_lr)"
      ],
      "id": "1e58481c"
    },
    {
      "cell_type": "code",
      "execution_count": null,
      "metadata": {
        "id": "8c01483f"
      },
      "outputs": [],
      "source": [
        "evaluate_model (final_xgboost)"
      ],
      "id": "8c01483f"
    },
    {
      "cell_type": "code",
      "execution_count": null,
      "metadata": {
        "id": "3d1adfa4"
      },
      "outputs": [],
      "source": [
        "evaluate_model (final_rf)"
      ],
      "id": "3d1adfa4"
    },
    {
      "cell_type": "code",
      "execution_count": null,
      "metadata": {
        "id": "50949e77"
      },
      "outputs": [],
      "source": [
        "evaluate_model (final_rbfsvm)"
      ],
      "id": "50949e77"
    },
    {
      "cell_type": "code",
      "execution_count": null,
      "metadata": {
        "id": "c7c6dbd2"
      },
      "outputs": [],
      "source": [
        "evaluate_model (final_knn)"
      ],
      "id": "c7c6dbd2"
    },
    {
      "cell_type": "code",
      "execution_count": null,
      "metadata": {
        "id": "abe10f1e"
      },
      "outputs": [],
      "source": [
        "evaluate_model (final_nb)"
      ],
      "id": "abe10f1e"
    },
    {
      "cell_type": "markdown",
      "metadata": {
        "id": "526OIQNou0Fd"
      },
      "source": [
        "#ここから、アンサンブルでスタッキングモデルを作成する"
      ],
      "id": "526OIQNou0Fd"
    },
    {
      "cell_type": "code",
      "execution_count": null,
      "metadata": {
        "id": "ApEUbpqorrTz"
      },
      "outputs": [],
      "source": [
        "# スタッキングモデルを作成（メタ学習器にLogistic Regressionを使用）\n",
        "stacked_model = stack_models(\n",
        "    estimator_list=[final_lr, final_rf, final_xgboost],\n",
        "    meta_model=create_model('lr'),  # メタ学習器\n",
        "    fold=5  # クロスバリデーションのフォールド数\n",
        ")"
      ],
      "id": "ApEUbpqorrTz"
    },
    {
      "cell_type": "code",
      "execution_count": null,
      "metadata": {
        "id": "X6KhWtfCtMmT"
      },
      "outputs": [],
      "source": [
        "# ランダムサーチでハイパーパラメーターチューニング\n",
        "tuned_stacked = tune_model(\n",
        "    stacked_model,\n",
        "    optimize='AUC',                    # AUCで最適化\n",
        "    search_library='scikit-learn',     # scikit-learnのRandomizedSearchCVを使用\n",
        "    search_algorithm='random',         # ランダムサーチ\n",
        "    n_iter=3,                        # 試行回数\n",
        "    fold=5,                           # クロスバリデーションのフォールド数\n",
        "    verbose=True\n",
        ")"
      ],
      "id": "X6KhWtfCtMmT"
    },
    {
      "cell_type": "code",
      "execution_count": null,
      "metadata": {
        "id": "UfMEczfwtMth"
      },
      "outputs": [],
      "source": [
        "# 全データで最終モデルを訓練\n",
        "final_stacked_model = finalize_model(tuned_stacked)"
      ],
      "id": "UfMEczfwtMth"
    },
    {
      "cell_type": "code",
      "execution_count": null,
      "metadata": {
        "id": "iRgANTQntMxf"
      },
      "outputs": [],
      "source": [
        "# 訓練データでの予測と評価\n",
        "train_predictions = predict_model(final_stacked_model, data=train_data)"
      ],
      "id": "iRgANTQntMxf"
    },
    {
      "cell_type": "code",
      "execution_count": null,
      "metadata": {
        "id": "ZVR0FWZEtbjD"
      },
      "outputs": [],
      "source": [
        "# テストデータでの予測\n",
        "test_predictions = predict_model(final_stacked_model, data=test_data)\n",
        "\n",
        "# テストデータの実際の精度計算\n",
        "from sklearn.metrics import accuracy_score, precision_score, recall_score, f1_score, roc_auc_score\n",
        "\n",
        "# 予測結果の取得\n",
        "y_true_test = test_data['event']\n",
        "y_pred_test = test_predictions['prediction_label']\n",
        "y_pred_proba_test = test_predictions['prediction_score']"
      ],
      "id": "ZVR0FWZEtbjD"
    },
    {
      "cell_type": "code",
      "execution_count": null,
      "metadata": {
        "id": "F2GQf2OCtblX"
      },
      "outputs": [],
      "source": [
        "evaluate_model (final_stacked_model)"
      ],
      "id": "F2GQf2OCtblX"
    }
  ],
  "metadata": {
    "accelerator": "GPU",
    "colab": {
      "provenance": [],
      "include_colab_link": true
    },
    "gpuClass": "standard",
    "kernelspec": {
      "display_name": "Python 3",
      "language": "python",
      "name": "python3"
    },
    "language_info": {
      "codemirror_mode": {
        "name": "ipython",
        "version": 3
      },
      "file_extension": ".py",
      "mimetype": "text/x-python",
      "name": "python",
      "nbconvert_exporter": "python",
      "pygments_lexer": "ipython3",
      "version": "3.8.5"
    }
  },
  "nbformat": 4,
  "nbformat_minor": 5
}