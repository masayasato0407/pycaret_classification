{
  "cells": [
    {
      "cell_type": "markdown",
      "metadata": {
        "id": "view-in-github",
        "colab_type": "text"
      },
      "source": [
        "<a href=\"https://colab.research.google.com/github/masayasato0407/pycaret_classification/blob/main/pycaret_classification_Randomforest.ipynb\" target=\"_parent\"><img src=\"https://colab.research.google.com/assets/colab-badge.svg\" alt=\"Open In Colab\"/></a>"
      ]
    },
    {
      "cell_type": "markdown",
      "source": [
        "#pycaretはtrain sampleとtest sampleを予め分けて準備し、5つのステップでtest sampleでの精度を解析する\n",
        "\n",
        "①training dataとtest dataを読み込む\n",
        "\n",
        "②狭義のtraining set (training sample全体の7割)を10分割交差検証で比較しハイパーパラメーターのチューニングする\n",
        "\n",
        "③validation set (training sample全体の3割)も使用して、training sample全体でのモデルを作成する\n",
        "\n",
        "④training set全体での精度の検証 (internal validation)\n",
        "\n",
        "⑤予め別に自身で準備したtest sampleで精度を検証する (external validation)\n",
        "→この精度を上げるのが目的\n"
      ],
      "metadata": {
        "id": "sR79vo4Z5Sqt"
      },
      "id": "sR79vo4Z5Sqt"
    },
    {
      "cell_type": "code",
      "execution_count": null,
      "metadata": {
        "id": "2k2STpdQw0Yi"
      },
      "outputs": [],
      "source": [
        "#パッケージのインストール\n",
        "!pip install pycaret"
      ],
      "id": "2k2STpdQw0Yi"
    },
    {
      "cell_type": "code",
      "execution_count": null,
      "metadata": {
        "id": "f06df51c"
      },
      "outputs": [],
      "source": [
        "#ライブラリのインポート\n",
        "import numpy as np\n",
        "import pandas as pd"
      ],
      "id": "f06df51c"
    },
    {
      "cell_type": "code",
      "execution_count": null,
      "metadata": {
        "id": "3c2c1669"
      },
      "outputs": [],
      "source": [
        "from pycaret.classification import *"
      ],
      "id": "3c2c1669"
    },
    {
      "cell_type": "markdown",
      "source": [
        "#ここからは実際のデータの読み込み"
      ],
      "metadata": {
        "id": "7iO4iFd-6EDL"
      },
      "id": "7iO4iFd-6EDL"
    },
    {
      "cell_type": "code",
      "execution_count": null,
      "metadata": {
        "id": "056bb4df"
      },
      "outputs": [],
      "source": [
        "# ローカルファイルを直接アップロードする (train data)\n",
        "from google.colab import files\n",
        "uploaded = files.upload()\n"
      ],
      "id": "056bb4df"
    },
    {
      "cell_type": "code",
      "execution_count": null,
      "metadata": {
        "id": "a5a0e641"
      },
      "outputs": [],
      "source": [
        "#train dataの読み込み\n",
        "train_data = pd.read_csv('train.csv')\n",
        "train_data.head()"
      ],
      "id": "a5a0e641"
    },
    {
      "cell_type": "code",
      "execution_count": null,
      "metadata": {
        "id": "4vcKjPNQxuBq"
      },
      "outputs": [],
      "source": [
        "# ローカルファイルを直接アップロードする (test data)\n",
        "from google.colab import files\n",
        "uploaded = files.upload()"
      ],
      "id": "4vcKjPNQxuBq"
    },
    {
      "cell_type": "code",
      "execution_count": null,
      "metadata": {
        "id": "w_RVw-42xuEw"
      },
      "outputs": [],
      "source": [
        "#test dataの読み込み\n",
        "test_data = pd.read_csv('test.csv')\n",
        "test_data.head()"
      ],
      "id": "w_RVw-42xuEw"
    },
    {
      "cell_type": "markdown",
      "source": [
        "#ここからステップ①、pycaretにデータの型を判別させ、training data全体ををtrainingのための狭義のtraining sampleとパラメーターを決めるためのvalidation sampleに分割する。 \n"
      ],
      "metadata": {
        "id": "Y5prxd6b5fhq"
      },
      "id": "Y5prxd6b5fhq"
    },
    {
      "cell_type": "code",
      "execution_count": null,
      "metadata": {
        "id": "d51ea396"
      },
      "outputs": [],
      "source": [
        "#train_sizeを指定しない場合は7:3に分割される\n",
        "#pycaretにデータの型を判別させる (sampleIDは無視する→ignore)\n",
        "exp1 = setup(train_data, target = 'event', train_size = 0.8,ignore_features = ['sampleID'])"
      ],
      "id": "d51ea396"
    },
    {
      "cell_type": "markdown",
      "source": [
        "#ここからステップ② 狭義のtraining set (上でtraining sample全体の8割に指定)を10分割交差検証で比較しハイパーパラメーターのチューニングする"
      ],
      "metadata": {
        "id": "P83u16Xw6Lyq"
      },
      "id": "P83u16Xw6Lyq"
    },
    {
      "cell_type": "code",
      "execution_count": null,
      "metadata": {
        "id": "a907c095"
      },
      "outputs": [],
      "source": [
        "#transformed train sampleでのmodelの比較 (デフォルトは10分割交差検証)\n",
        "compare_models()"
      ],
      "id": "a907c095"
    },
    {
      "cell_type": "code",
      "execution_count": null,
      "metadata": {
        "id": "26c991c9"
      },
      "outputs": [],
      "source": [
        "#ランダムフォレストモデルを作成\n",
        "rf = create_model('rf')"
      ],
      "id": "26c991c9"
    },
    {
      "cell_type": "markdown",
      "source": [
        "ここからハイパーパラメーターをチューニング、pycaretはランダムサーチで最適パラメーターを探索 "
      ],
      "metadata": {
        "id": "n5KeRBLH6xIa"
      },
      "id": "n5KeRBLH6xIa"
    },
    {
      "cell_type": "code",
      "execution_count": null,
      "metadata": {
        "id": "ba587cd9"
      },
      "outputs": [],
      "source": [
        "#試行回数の指定 n_iter = 10 (時間がかかるので10にしています、50や100に設定してください)\n",
        "#AUCがいいものを選ぶ場合はoptimizeを'AUC'で指定、正答率なら'Accuracy'\n",
        "\n",
        "#ランダムフォレスト\n",
        "tuned_rf = tune_model(rf,  n_iter = 10, fold=10,optimize = 'AUC')"
      ],
      "id": "ba587cd9"
    },
    {
      "cell_type": "markdown",
      "source": [
        "#ここからステップ③ validation sampleも含めたtraining sample2100例全体でのモデル (final model)を固定する"
      ],
      "metadata": {
        "id": "fMDhDy6O63p6"
      },
      "id": "fMDhDy6O63p6"
    },
    {
      "cell_type": "code",
      "execution_count": null,
      "metadata": {
        "id": "6a241e8d"
      },
      "outputs": [],
      "source": [
        "#ランダムフォレストモデルの固定\n",
        "final_rf = finalize_model(tuned_rf)"
      ],
      "id": "6a241e8d"
    },
    {
      "cell_type": "markdown",
      "source": [
        "#ここからステップ④　training set全体での精度検証 (internal validation)\n",
        "\n",
        "このコードは厳密にはtraining sample全体で評価を行っているのではなく、training sampleの一部である (今回ならtraining sampleの2割)　validation sampleのみでの評価を行っている\n",
        "\n",
        "→training sample全体で行うためには、本プロセスの最後で行っているtest dataでの評価の際に用いるtest dataをtraining dataに置き換えて、test dataに行うのと同様にScoreのCSVファイルを出力する"
      ],
      "metadata": {
        "id": "Iy3BF0sL7svi"
      },
      "id": "Iy3BF0sL7svi"
    },
    {
      "cell_type": "code",
      "execution_count": null,
      "metadata": {
        "id": "e0a6bbd5"
      },
      "outputs": [],
      "source": [
        "#ランダムフォレストモデルのinternal validation\n",
        "predict_model(final_rf);"
      ],
      "id": "e0a6bbd5"
    },
    {
      "cell_type": "markdown",
      "source": [
        "#ここからステップ⑤　予め別に自身で準備したtest sampleで精度を検証する (external validation)→この精度を上げるのが目的"
      ],
      "metadata": {
        "id": "F9L0Ck__8Eux"
      },
      "id": "F9L0Ck__8Eux"
    },
    {
      "cell_type": "code",
      "execution_count": null,
      "metadata": {
        "id": "3c81b74f"
      },
      "outputs": [],
      "source": [
        "#ランダムフォレストモデルの評価\n",
        "prediction_rf = predict_model(final_rf, data = test_data)\n",
        "prediction_rf"
      ],
      "id": "3c81b74f"
    },
    {
      "cell_type": "markdown",
      "source": [
        "#既存のスコアリングシステムなどとの比較をしやすくするため、統計ソフトでの解析用に機械学習が出したスコアと正解ラベルをcsvファイルで出力する。\n",
        "\n",
        "注意点: AUCを出すためにはprediction_label=0のものは、prediction=1の確率に変換をする"
      ],
      "metadata": {
        "id": "V4rLp9jKBX7v"
      },
      "id": "V4rLp9jKBX7v"
    },
    {
      "cell_type": "code",
      "execution_count": null,
      "metadata": {
        "id": "a52c71d2"
      },
      "outputs": [],
      "source": [
        "#ランダムフォレストの予測出力 (左のフォルダにcsvが出ているので、ファイル右の点3つからダウンロード)\n",
        "prediction_rf.to_csv('prediction_rf.csv', columns=['event','prediction_label','prediction_score'])"
      ],
      "id": "a52c71d2"
    },
    {
      "cell_type": "markdown",
      "source": [
        "#ハイパーパラメーターや変数の重要度等を一斉に出力する(catboostなどでは出力されない)"
      ],
      "metadata": {
        "id": "4PM_WuaeCH62"
      },
      "id": "4PM_WuaeCH62"
    },
    {
      "cell_type": "code",
      "execution_count": null,
      "metadata": {
        "id": "3d1adfa4"
      },
      "outputs": [],
      "source": [
        "evaluate_model (final_rf)"
      ],
      "id": "3d1adfa4"
    }
  ],
  "metadata": {
    "colab": {
      "provenance": [],
      "include_colab_link": true
    },
    "kernelspec": {
      "display_name": "Python 3 (ipykernel)",
      "language": "python",
      "name": "python3"
    },
    "language_info": {
      "codemirror_mode": {
        "name": "ipython",
        "version": 3
      },
      "file_extension": ".py",
      "mimetype": "text/x-python",
      "name": "python",
      "nbconvert_exporter": "python",
      "pygments_lexer": "ipython3",
      "version": "3.8.13"
    },
    "accelerator": "GPU",
    "gpuClass": "standard"
  },
  "nbformat": 4,
  "nbformat_minor": 5
}