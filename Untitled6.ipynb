{
  "nbformat": 4,
  "nbformat_minor": 0,
  "metadata": {
    "colab": {
      "provenance": [],
      "gpuType": "T4",
      "authorship_tag": "ABX9TyNsejqXgRfCdRQY4oVsTULA",
      "include_colab_link": true
    },
    "kernelspec": {
      "name": "python3",
      "display_name": "Python 3"
    },
    "language_info": {
      "name": "python"
    },
    "accelerator": "GPU",
    "gpuClass": "standard"
  },
  "cells": [
    {
      "cell_type": "markdown",
      "metadata": {
        "id": "view-in-github",
        "colab_type": "text"
      },
      "source": [
        "<a href=\"https://colab.research.google.com/github/masayasato0407/pycaret_classification/blob/main/Untitled6.ipynb\" target=\"_parent\"><img src=\"https://colab.research.google.com/assets/colab-badge.svg\" alt=\"Open In Colab\"/></a>"
      ]
    },
    {
      "cell_type": "code",
      "execution_count": 1,
      "metadata": {
        "colab": {
          "base_uri": "https://localhost:8080/"
        },
        "id": "YrIFMsPVTPD1",
        "outputId": "33185668-8900-4ccd-e9c4-95c3bd9d4d86"
      },
      "outputs": [
        {
          "output_type": "stream",
          "name": "stdout",
          "text": [
            "\u001b[31mERROR: 404 Client Error: Not Found for url: https://raw.githubusercontent.com/masayasato0407/pycaret_classification/blob/main/requirements.txt\u001b[0m\u001b[31m\n",
            "\u001b[0m"
          ]
        }
      ],
      "source": [
        "!pip install -r https://raw.githubusercontent.com/masayasato0407/pycaret_classification/blob/main/requirements.txt"
      ]
    },
    {
      "cell_type": "code",
      "source": [
        "!pip install -r https://github.com/masayasato0407/pycaret_classification/blob/main/requirements.txt"
      ],
      "metadata": {
        "id": "p8WU7rDuwGYO"
      },
      "execution_count": null,
      "outputs": []
    },
    {
      "cell_type": "code",
      "source": [
        "!pip install -r requirements.txt"
      ],
      "metadata": {
        "id": "arjDije2wWA9"
      },
      "execution_count": null,
      "outputs": []
    }
  ]
}